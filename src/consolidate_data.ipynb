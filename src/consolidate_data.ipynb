{
 "cells": [
  {
   "cell_type": "code",
   "execution_count": 1,
   "metadata": {},
   "outputs": [],
   "source": [
    "import re, os, sys, glob\n",
    "import numpy as np\n",
    "import pandas as pd\n",
    "import seaborn as sns\n",
    "import sklearn\n",
    "from sklearn.linear_model import LinearRegression\n",
    "from matplotlib import pyplot as plt\n",
    "from fractions import Fraction\n",
    "from src import pandas_helpers"
   ]
  },
  {
   "cell_type": "code",
   "execution_count": 21,
   "metadata": {},
   "outputs": [],
   "source": [
    "attendance = pd.read_excel('./data/raw/nba_team_annual_attendance.xlsx')\\\n",
    "               .clean_column_names()\\\n",
    "               .parse_date_columns()"
   ]
  },
  {
   "cell_type": "code",
   "execution_count": 22,
   "metadata": {},
   "outputs": [],
   "source": [
    "bestLineups = pd.read_csv('./data/raw/nba_player_value/data/bestLineups.csv')\\\n",
    "                .clean_column_names()\\\n",
    "                .parse_date_columns()"
   ]
  },
  {
   "cell_type": "code",
   "execution_count": 23,
   "metadata": {},
   "outputs": [],
   "source": [
    "lineups_16_17 = pd.read_csv('./data/raw/nba_player_value/data/lineups_16_17.csv')\\\n",
    "                  .clean_column_names()\\\n",
    "                  .parse_date_columns()"
   ]
  },
  {
   "cell_type": "code",
   "execution_count": 24,
   "metadata": {},
   "outputs": [],
   "source": [
    "nba_positions = pd.read_csv('./data/raw/nba_player_value/data/nba_positions.csv')\\\n",
    "                  .clean_column_names()\\\n",
    "                  .parse_date_columns()"
   ]
  },
  {
   "cell_type": "code",
   "execution_count": 18,
   "metadata": {},
   "outputs": [],
   "source": [
    "nba_stats = pd.read_csv('./data/raw/nba_player_value/data/nbaStats.csv')\\\n",
    ".clean_column_names()\\\n",
    ".parse_date_columns()"
   ]
  },
  {
   "cell_type": "code",
   "execution_count": 19,
   "metadata": {},
   "outputs": [],
   "source": [
    "ncaa_positions = pd.read_csv('./data/raw/nba_player_value/data/ncaa_positions.csv')\\\n",
    ".clean_column_names()\\\n",
    ".parse_date_columns()"
   ]
  },
  {
   "cell_type": "code",
   "execution_count": 20,
   "metadata": {},
   "outputs": [],
   "source": [
    "predictions = pd.read_csv('./data/raw/nba_player_value/data/predictions.csv')\\\n",
    ".clean_column_names()\\\n",
    ".parse_date_columns()"
   ]
  },
  {
   "cell_type": "code",
   "execution_count": 9,
   "metadata": {},
   "outputs": [],
   "source": [
    "odds = pd.concat(map(pd.read_excel, glob.glob(\"./data/raw/odds/*.xlsx\")))\\\n",
    ".clean_column_names()\\\n",
    ".parse_date_columns()"
   ]
  },
  {
   "cell_type": "code",
   "execution_count": 11,
   "metadata": {},
   "outputs": [],
   "source": [
    "elo = pd.concat(map(pd.read_csv, glob.glob(\"./data/raw/nba_elo/nbaallelo.csv\")))\\\n",
    ".clean_column_names()\\\n",
    ".parse_date_columns()"
   ]
  },
  {
   "cell_type": "code",
   "execution_count": 17,
   "metadata": {},
   "outputs": [],
   "source": [
    "test = (\n",
    "    pd.concat(map(pd.read_csv, glob.glob(\"./data/welldatabase/test/*.csv\")))\n",
    "    .clean_column_names()\n",
    "    .parse_date_columns()\n",
    "    .parse_api_columns()\n",
    ")"
   ]
  },
  {
   "cell_type": "code",
   "execution_count": 18,
   "metadata": {},
   "outputs": [],
   "source": [
    "def string_to_fraction(x):\n",
    "    try:\n",
    "        result = float(Fraction(x))\n",
    "    except AttributeError:\n",
    "        result = float(x)\n",
    "    except TypeError:\n",
    "        result = np.nan\n",
    "    except ValueError:\n",
    "        result = np.nan\n",
    "    while result > 1:\n",
    "        result = result / 64\n",
    "    return result"
   ]
  },
  {
   "cell_type": "code",
   "execution_count": 19,
   "metadata": {},
   "outputs": [],
   "source": [
    "test[\"chokesize_clean\"] = (\n",
    "    test[\"chokesize\"]\n",
    "    .str.replace(\"-\", \"/\")\n",
    "    .str.replace(\"TH\", \"\")\n",
    "    .str.strip('\"')\n",
    "    .str.strip(\"'\")\n",
    "    .str.replace(pat=\"OPEN|NONE|FO|OPEN FLOW\", repl=\"1\")\n",
    "    .str.replace(pat=\"0|CLOSED|INSERT\", repl=\"\")\n",
    "    .apply(string_to_fraction)\n",
    ")"
   ]
  },
  {
   "cell_type": "code",
   "execution_count": 20,
   "metadata": {},
   "outputs": [],
   "source": [
    "tubingandpacker = (\n",
    "    pd.concat(map(pd.read_csv, glob.glob(\"./data/welldatabase/tubingandcasing/*.csv\")))\n",
    "    .clean_column_names()\n",
    "    .parse_date_columns()\n",
    ")"
   ]
  },
  {
   "cell_type": "code",
   "execution_count": 21,
   "metadata": {},
   "outputs": [],
   "source": [
    "header = header[header[\"wellboreprofile\"] == \"HORIZONTAL\"]\n",
    "sqdist = (header[\"surfacelatitude\"] - header[\"bottomholelatitude\"]) ** 2 + (\n",
    "    header[\"surfacelongitude\"] - header[\"bottomholelongitude\"]\n",
    ") ** 2\n",
    "header[\"surface_to_bottomhole_distance\"] = sqdist.map(lambda x: np.sqrt(x))"
   ]
  },
  {
   "cell_type": "code",
   "execution_count": 22,
   "metadata": {},
   "outputs": [
    {
     "data": {
      "text/plain": [
       "LinearRegression(copy_X=True, fit_intercept=True, n_jobs=1, normalize=False)"
      ]
     },
     "execution_count": 22,
     "metadata": {},
     "output_type": "execute_result"
    }
   ],
   "source": [
    "linear_reg = LinearRegression()\n",
    "xy = header.loc[\n",
    "    header[\"surface_to_bottomhole_distance\"] != 0,\n",
    "    [\"laterallength\", \"surface_to_bottomhole_distance\"],\n",
    "].dropna()\n",
    "y = xy[\"laterallength\"].values.reshape(-1, 1)\n",
    "X = xy[\"surface_to_bottomhole_distance\"].values.reshape(-1, 1)\n",
    "linear_reg.fit(X=X, y=y)"
   ]
  },
  {
   "cell_type": "code",
   "execution_count": 23,
   "metadata": {},
   "outputs": [
    {
     "data": {
      "text/plain": [
       "[<matplotlib.lines.Line2D at 0x7f0978524550>,\n",
       " <matplotlib.lines.Line2D at 0x7f09785244e0>]"
      ]
     },
     "execution_count": 23,
     "metadata": {},
     "output_type": "execute_result"
    },
    {
     "data": {
      "image/png": "[encoded data removed]",
      "text/plain": [
       "<Figure size 432x288 with 1 Axes>"
      ]
     },
     "metadata": {},
     "output_type": "display_data"
    }
   ],
   "source": [
    "plt.plot(X, y, \"o\", X, linear_reg.predict(X), \"-k\")"
   ]
  },
  {
   "cell_type": "code",
   "execution_count": 24,
   "metadata": {},
   "outputs": [],
   "source": [
    "header[\"laterallength_from_bottom\"] = linear_reg.predict(\n",
    "    header[\"surface_to_bottomhole_distance\"].values.reshape(-1, 1)\n",
    ")"
   ]
  },
  {
   "cell_type": "code",
   "execution_count": 25,
   "metadata": {},
   "outputs": [],
   "source": [
    "header[\"missing_laterallength\"] = header[\"laterallength\"].isnull()"
   ]
  },
  {
   "cell_type": "code",
   "execution_count": 26,
   "metadata": {},
   "outputs": [],
   "source": [
    "header_summary = header.deduplicate(\"api\", override={\"missing_laterallength\": \"all\"})"
   ]
  },
  {
   "cell_type": "code",
   "execution_count": 27,
   "metadata": {},
   "outputs": [],
   "source": [
    "completion = zero_to_null(completion, [\"upperperf\", \"lowerperf\"])"
   ]
  },
  {
   "cell_type": "code",
   "execution_count": 28,
   "metadata": {},
   "outputs": [],
   "source": [
    "completion_summary = completion.deduplicate([\"api\", \"completiondate\"])"
   ]
  },
  {
   "cell_type": "code",
   "execution_count": 29,
   "metadata": {},
   "outputs": [],
   "source": [
    "index_of_deepest_top = (\n",
    "    formation.groupby(\"api\").agg({\"topdepth\": \"idxmax\"})[\"topdepth\"].dropna()\n",
    ")\n",
    "formation_summary = (\n",
    "    formation.iloc[index_of_deepest_top].groupby(\"api\").agg({\"name\": \"first\"})\n",
    ")"
   ]
  },
  {
   "cell_type": "code",
   "execution_count": 30,
   "metadata": {},
   "outputs": [],
   "source": [
    "fracstage_summary = fracstage.deduplicate(\"api\")"
   ]
  },
  {
   "cell_type": "code",
   "execution_count": 31,
   "metadata": {},
   "outputs": [],
   "source": [
    "perf = zero_to_null(perf, [\"lowerperf\", \"upperperf\"])"
   ]
  },
  {
   "cell_type": "code",
   "execution_count": 32,
   "metadata": {},
   "outputs": [],
   "source": [
    "perf_summary = perf.deduplicate(\"api\")"
   ]
  },
  {
   "cell_type": "code",
   "execution_count": 33,
   "metadata": {},
   "outputs": [],
   "source": [
    "production[\"yearmonth\"] = production[\"date\"].apply(\n",
    "    lambda x: \"{YEAR}-{MONTH:02d}\".format(YEAR=x.year, MONTH=x.month)\n",
    ")"
   ]
  },
  {
   "cell_type": "code",
   "execution_count": 34,
   "metadata": {},
   "outputs": [],
   "source": [
    "production = production[production[\"yearmonth\"] > \"2011-01\"]"
   ]
  },
  {
   "cell_type": "code",
   "execution_count": 35,
   "metadata": {},
   "outputs": [],
   "source": [
    "production[\"days\"] = pd.to_timedelta(production[\"days\"], unit=\"D\")\n",
    "production[\"first_producing_day_of_month\"] = (\n",
    "    production[\"date\"] + pd.DateOffset(months=1) - production[\"days\"]\n",
    ")"
   ]
  },
  {
   "cell_type": "code",
   "execution_count": 36,
   "metadata": {},
   "outputs": [],
   "source": [
    "production_summary = production.deduplicate([\"api\", \"yearmonth\"])"
   ]
  },
  {
   "cell_type": "code",
   "execution_count": 37,
   "metadata": {},
   "outputs": [],
   "source": [
    "test_summary = test.deduplicate([\"api\", \"testdate\"])"
   ]
  },
  {
   "cell_type": "code",
   "execution_count": 38,
   "metadata": {},
   "outputs": [],
   "source": [
    "productionsummary_summary = productionsummary.deduplicate(\"api\")"
   ]
  },
  {
   "cell_type": "code",
   "execution_count": 39,
   "metadata": {},
   "outputs": [],
   "source": [
    "combined = (\n",
    "    header_summary.join(productionsummary_summary, rsuffix=\"prodsum\")\n",
    "    .join(perf_summary, rsuffix=\"perf\")\n",
    "    .join(fracstage_summary, rsuffix=\"frac\")\n",
    "    .merge_multi(test_summary, suffixes=(\"\", \"test\"))\n",
    "    .merge_multi(completion_summary, suffixes=(\"\", \"comp\"))\n",
    "    .merge_multi(production_summary, suffixes=(\"\", \"prod\"))\n",
    ")"
   ]
  },
  {
   "cell_type": "code",
   "execution_count": 40,
   "metadata": {},
   "outputs": [],
   "source": [
    "combined[\"days_since_completion\"] = (\n",
    "    combined[\"first_producing_day_of_month\"] - combined[\"completiondate\"]\n",
    ") / np.timedelta64(1, \"D\")"
   ]
  },
  {
   "cell_type": "code",
   "execution_count": 41,
   "metadata": {},
   "outputs": [],
   "source": [
    "combined[\"increment_30days\"] = combined[\"days_since_completion\"].apply(\n",
    "    lambda x: np.floor(x / 30) + 1\n",
    ")"
   ]
  },
  {
   "cell_type": "code",
   "execution_count": 42,
   "metadata": {},
   "outputs": [
    {
     "data": {
      "text/plain": [
       "(1089884, 287)"
      ]
     },
     "execution_count": 42,
     "metadata": {},
     "output_type": "execute_result"
    }
   ],
   "source": [
    "combined = combined[\n",
    "    combined[\"first_producing_day_of_month\"] >= combined[\"completiondate\"]\n",
    "]\n",
    "combined.shape"
   ]
  },
  {
   "cell_type": "code",
   "execution_count": 43,
   "metadata": {},
   "outputs": [
    {
     "data": {
      "text/plain": [
       "(107540, 287)"
      ]
     },
     "execution_count": 43,
     "metadata": {},
     "output_type": "execute_result"
    }
   ],
   "source": [
    "combined_subset = combined[combined[\"increment_30days\"].map(lambda x: 0 <= x <= 12)]\n",
    "combined_subset.shape"
   ]
  },
  {
   "cell_type": "code",
   "execution_count": 44,
   "metadata": {},
   "outputs": [
    {
     "data": {
      "text/plain": [
       "(1997, 287)"
      ]
     },
     "execution_count": 44,
     "metadata": {},
     "output_type": "execute_result"
    }
   ],
   "source": [
    "combined_subset = combined_subset.deduplicate(\n",
    "    key=[\"api\", \"increment_30days\"]\n",
    ").deduplicate(key=[\"api\"], override={\"oil\": \"sum\"})\n",
    "\n",
    "combined_subset.shape"
   ]
  },
  {
   "cell_type": "code",
   "execution_count": 45,
   "metadata": {},
   "outputs": [],
   "source": [
    "combined_subset.to_csv(\"./data/welldb_combined.csv\")"
   ]
  }
 ],
 "metadata": {
  "kernelspec": {
   "display_name": "Python 3",
   "language": "python",
   "name": "python3"
  },
  "language_info": {
   "codemirror_mode": {
    "name": "ipython",
    "version": 3
   },
   "file_extension": ".py",
   "mimetype": "text/x-python",
   "name": "python",
   "nbconvert_exporter": "python",
   "pygments_lexer": "ipython3",
   "version": "3.6.7"
  }
 },
 "nbformat": 4,
 "nbformat_minor": 2
}
