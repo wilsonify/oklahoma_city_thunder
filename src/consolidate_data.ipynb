{
 "cells": [
  {
   "cell_type": "code",
   "execution_count": 3,
   "metadata": {
    "slideshow": {
     "slide_type": "-"
    }
   },
   "outputs": [],
   "source": [
    "import re\n",
    "import os\n",
    "import sys\n",
    "import glob\n",
    "import numpy as np\n",
    "import pandas as pd\n",
    "import seaborn as sns\n",
    "import sklearn\n",
    "from sklearn.linear_model import LinearRegression\n",
    "from matplotlib import pyplot as plt\n",
    "from fractions import Fraction\n",
    "import pandas_helpers\n",
    "import logging\n",
    "from logging.config import dictConfig\n",
    "import config\n",
    "import nba_py"
   ]
  },
  {
   "cell_type": "code",
   "execution_count": 4,
   "metadata": {},
   "outputs": [],
   "source": [
    "os.makedirs(config.LOG_DIR, exist_ok=True)\n",
    "dictConfig(config.LOGGING_CONFIG_DICT)"
   ]
  },
  {
   "cell_type": "code",
   "execution_count": 5,
   "metadata": {},
   "outputs": [
    {
     "name": "stderr",
     "output_type": "stream",
     "text": [
      "reading attendance data\n",
      "clean_column_names\n",
      "parse_date_columns\n",
      "deduplicate\n"
     ]
    }
   ],
   "source": [
    "logging.info(\"reading attendance data\")\n",
    "attendance = pd.read_excel(\"../data/raw/nba_team_annual_attendance.xlsx\")\\\n",
    "    .clean_column_names()\\\n",
    "    .parse_date_columns()\\\n",
    "    .deduplicate([\"team\", \"starting_year\"])\n"
   ]
  },
  {
   "cell_type": "code",
   "execution_count": 6,
   "metadata": {},
   "outputs": [
    {
     "name": "stderr",
     "output_type": "stream",
     "text": [
      "reading player value data\n",
      "clean_column_names\n",
      "parse_date_columns\n"
     ]
    }
   ],
   "source": [
    "logging.info(\"reading player value data\")\n",
    "bestLineups = pd.read_csv('../data/raw/nba_player_value/data/bestLineups.csv')\\\n",
    "                .clean_column_names()\\\n",
    "                .parse_date_columns()\n"
   ]
  },
  {
   "cell_type": "code",
   "execution_count": 7,
   "metadata": {},
   "outputs": [
    {
     "name": "stderr",
     "output_type": "stream",
     "text": [
      "clean_column_names\n",
      "parse_date_columns\n"
     ]
    }
   ],
   "source": [
    "lineups_16_17 = pd.read_csv('../data/raw/nba_player_value/data/lineups_16_17.csv')\\\n",
    "                  .clean_column_names()\\\n",
    "                  .parse_date_columns()\n"
   ]
  },
  {
   "cell_type": "code",
   "execution_count": 8,
   "metadata": {},
   "outputs": [
    {
     "name": "stderr",
     "output_type": "stream",
     "text": [
      "clean_column_names\n",
      "parse_date_columns\n"
     ]
    }
   ],
   "source": [
    "nba_positions = pd.read_csv('../data/raw/nba_player_value/data/nba_positions.csv')\\\n",
    "                  .clean_column_names()\\\n",
    "                  .parse_date_columns()\n"
   ]
  },
  {
   "cell_type": "code",
   "execution_count": 9,
   "metadata": {},
   "outputs": [
    {
     "name": "stderr",
     "output_type": "stream",
     "text": [
      "clean_column_names\n",
      "parse_date_columns\n"
     ]
    }
   ],
   "source": [
    "nba_stats = pd.read_csv('../data/raw/nba_player_value/data/nbaStats.csv')\\\n",
    "    .clean_column_names()\\\n",
    "    .parse_date_columns()\n"
   ]
  },
  {
   "cell_type": "code",
   "execution_count": 10,
   "metadata": {},
   "outputs": [
    {
     "name": "stderr",
     "output_type": "stream",
     "text": [
      "clean_column_names\n",
      "parse_date_columns\n"
     ]
    }
   ],
   "source": [
    "ncaa_positions = pd.read_csv('../data/raw/nba_player_value/data/ncaa_positions.csv')\\\n",
    "    .clean_column_names()\\\n",
    "    .parse_date_columns()\n"
   ]
  },
  {
   "cell_type": "code",
   "execution_count": 11,
   "metadata": {},
   "outputs": [
    {
     "name": "stderr",
     "output_type": "stream",
     "text": [
      "clean_column_names\n",
      "parse_date_columns\n",
      "done reading player value data\n"
     ]
    }
   ],
   "source": [
    "predictions = pd.read_csv('../data/raw/nba_player_value/data/predictions.csv')\\\n",
    "    .clean_column_names()\\\n",
    "    .parse_date_columns()\n",
    "\n",
    "logging.info(\"done reading player value data\")"
   ]
  },
  {
   "cell_type": "code",
   "execution_count": 12,
   "metadata": {},
   "outputs": [
    {
     "name": "stderr",
     "output_type": "stream",
     "text": [
      "clean_column_names\n",
      "deduplicate\n"
     ]
    }
   ],
   "source": [
    "odds = (\n",
    "    pd.concat(map(pd.read_excel, glob.glob(\"../data/raw/odds/*.xlsx\")))\n",
    "    .clean_column_names()\n",
    "    .deduplicate([\"team\", \"date\"])\n",
    ")"
   ]
  },
  {
   "cell_type": "code",
   "execution_count": 13,
   "metadata": {},
   "outputs": [
    {
     "name": "stderr",
     "output_type": "stream",
     "text": [
      "clean_column_names\n",
      "parse_date_columns\n",
      "deduplicate\n"
     ]
    }
   ],
   "source": [
    "elo = pd.concat(map(pd.read_csv, glob.glob(\"../data/raw/nba_elo/nbaallelo.csv\")))\\\n",
    "    .clean_column_names()\\\n",
    "    .parse_date_columns()\\\n",
    "    .deduplicate(['team_id','opp_id','date_game'])"
   ]
  },
  {
   "cell_type": "code",
   "execution_count": null,
   "metadata": {},
   "outputs": [],
   "source": []
  },
  {
   "cell_type": "code",
   "execution_count": 39,
   "metadata": {},
   "outputs": [],
   "source": [
    "combined = (\n",
    "    header_summary.join(productionsummary_summary, rsuffix=\"prodsum\")\n",
    "    .join(perf_summary, rsuffix=\"perf\")\n",
    "    .join(fracstage_summary, rsuffix=\"frac\")\n",
    "    .merge_multi(test_summary, suffixes=(\"\", \"test\"))\n",
    "    .merge_multi(completion_summary, suffixes=(\"\", \"comp\"))\n",
    "    .merge_multi(production_summary, suffixes=(\"\", \"prod\"))\n",
    ")\n"
   ]
  },
  {
   "cell_type": "code",
   "execution_count": null,
   "metadata": {},
   "outputs": [],
   "source": []
  },
  {
   "cell_type": "code",
   "execution_count": 40,
   "metadata": {},
   "outputs": [],
   "source": [
    "combined[\"days_since_completion\"] = (\n",
    "    combined[\"first_producing_day_of_month\"] - combined[\"completiondate\"]\n",
    ") / np.timedelta64(1, \"D\")\n"
   ]
  },
  {
   "cell_type": "code",
   "execution_count": 41,
   "metadata": {},
   "outputs": [],
   "source": [
    "combined[\"increment_30days\"] = combined[\"days_since_completion\"].apply(\n",
    "    lambda x: np.floor(x / 30) + 1\n",
    ")\n"
   ]
  },
  {
   "cell_type": "code",
   "execution_count": 42,
   "metadata": {},
   "outputs": [
    {
     "data": {
      "text/plain": [
       "(1089884, 287)"
      ]
     },
     "execution_count": 42,
     "metadata": {},
     "output_type": "execute_result"
    }
   ],
   "source": [
    "combined = combined[\n",
    "    combined[\"first_producing_day_of_month\"] >= combined[\"completiondate\"]\n",
    "]\n",
    "combined.shape\n"
   ]
  },
  {
   "cell_type": "code",
   "execution_count": 43,
   "metadata": {},
   "outputs": [
    {
     "data": {
      "text/plain": [
       "(107540, 287)"
      ]
     },
     "execution_count": 43,
     "metadata": {},
     "output_type": "execute_result"
    }
   ],
   "source": [
    "combined_subset = combined[combined[\"increment_30days\"].map(\n",
    "    lambda x: 0 <= x <= 12)]\n",
    "combined_subset.shape\n"
   ]
  },
  {
   "cell_type": "code",
   "execution_count": 44,
   "metadata": {},
   "outputs": [
    {
     "data": {
      "text/plain": [
       "(1997, 287)"
      ]
     },
     "execution_count": 44,
     "metadata": {},
     "output_type": "execute_result"
    }
   ],
   "source": [
    "combined_subset = combined_subset.deduplicate(\n",
    "    key=[\"api\", \"increment_30days\"]\n",
    ").deduplicate(key=[\"api\"], override={\"oil\": \"sum\"})\n",
    "\n",
    "combined_subset.shape\n"
   ]
  },
  {
   "cell_type": "code",
   "execution_count": 45,
   "metadata": {},
   "outputs": [],
   "source": [
    "combined_subset.to_csv(\"./data/welldb_combined.csv\")\n"
   ]
  }
 ],
 "metadata": {
  "kernelspec": {
   "display_name": "Python 3",
   "language": "python",
   "name": "python3"
  },
  "language_info": {
   "codemirror_mode": {
    "name": "ipython",
    "version": 3
   },
   "file_extension": ".py",
   "mimetype": "text/x-python",
   "name": "python",
   "nbconvert_exporter": "python",
   "pygments_lexer": "ipython3",
   "version": "3.6.7"
  },
  "toc-showtags": false
 },
 "nbformat": 4,
 "nbformat_minor": 2
}
